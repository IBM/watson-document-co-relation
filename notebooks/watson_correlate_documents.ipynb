{
 "cells": [
  {
   "cell_type": "markdown",
   "metadata": {
    "collapsed": true
   },
   "source": [
    "# Correlation of text content across documents"
   ]
  },
  {
   "cell_type": "markdown",
   "metadata": {},
   "source": [
    "## 1. Setup\n",
    "To prepare your environment, you need to install some packages and enter credentials for the Watson services.\n",
    "\n",
    "### 1.1 Install the necessary packages\n",
    "\n",
    "You need the latest versions of these packages:<br>\n",
    "Watson Developer Cloud: a client library for Watson services.<br>\n",
    "NLTK: leading platform for building Python programs to work with human language data.<br>\n",
    "python-keystoneclient: is a client for the OpenStack Identity API.<br>\n",
    "python-swiftclient: is a python client for the Swift API.<br><br>\n",
    "** Install the Watson Developer Cloud package: **"
   ]
  },
  {
   "cell_type": "code",
   "execution_count": 16,
   "metadata": {},
   "outputs": [
    {
     "name": "stdout",
     "output_type": "stream",
     "text": [
      "Requirement already up-to-date: watson-developer-cloud in /opt/conda/envs/DSX-Python35/lib/python3.5/site-packages\n",
      "Requirement not upgraded as not directly required: requests<3.0,>=2.0 in /opt/conda/envs/DSX-Python35/lib/python3.5/site-packages (from watson-developer-cloud)\n",
      "Requirement not upgraded as not directly required: python-dateutil>=2.5.3 in /opt/conda/envs/DSX-Python35/lib/python3.5/site-packages (from watson-developer-cloud)\n",
      "Requirement not upgraded as not directly required: Twisted>=13.2.0 in /opt/conda/envs/DSX-Python35/lib/python3.5/site-packages (from watson-developer-cloud)\n",
      "Requirement not upgraded as not directly required: pyOpenSSL>=16.2.0 in /opt/conda/envs/DSX-Python35/lib/python3.5/site-packages (from watson-developer-cloud)\n",
      "Requirement not upgraded as not directly required: service-identity>=17.0.0 in /opt/conda/envs/DSX-Python35/lib/python3.5/site-packages (from watson-developer-cloud)\n",
      "Requirement not upgraded as not directly required: autobahn>=0.10.9 in /opt/conda/envs/DSX-Python35/lib/python3.5/site-packages (from watson-developer-cloud)\n",
      "Requirement not upgraded as not directly required: chardet<3.1.0,>=3.0.2 in /opt/conda/envs/DSX-Python35/lib/python3.5/site-packages (from requests<3.0,>=2.0->watson-developer-cloud)\n",
      "Requirement not upgraded as not directly required: idna<2.7,>=2.5 in /opt/conda/envs/DSX-Python35/lib/python3.5/site-packages (from requests<3.0,>=2.0->watson-developer-cloud)\n",
      "Requirement not upgraded as not directly required: urllib3<1.23,>=1.21.1 in /opt/conda/envs/DSX-Python35/lib/python3.5/site-packages (from requests<3.0,>=2.0->watson-developer-cloud)\n",
      "Requirement not upgraded as not directly required: certifi>=2017.4.17 in /opt/conda/envs/DSX-Python35/lib/python3.5/site-packages (from requests<3.0,>=2.0->watson-developer-cloud)\n",
      "Requirement not upgraded as not directly required: six>=1.5 in /opt/conda/envs/DSX-Python35/lib/python3.5/site-packages (from python-dateutil>=2.5.3->watson-developer-cloud)\n",
      "Requirement not upgraded as not directly required: hyperlink>=17.1.1 in /opt/conda/envs/DSX-Python35/lib/python3.5/site-packages (from Twisted>=13.2.0->watson-developer-cloud)\n",
      "Requirement not upgraded as not directly required: incremental>=16.10.1 in /opt/conda/envs/DSX-Python35/lib/python3.5/site-packages (from Twisted>=13.2.0->watson-developer-cloud)\n",
      "Requirement not upgraded as not directly required: zope.interface>=4.4.2 in /opt/conda/envs/DSX-Python35/lib/python3.5/site-packages (from Twisted>=13.2.0->watson-developer-cloud)\n",
      "Requirement not upgraded as not directly required: Automat>=0.3.0 in /opt/conda/envs/DSX-Python35/lib/python3.5/site-packages (from Twisted>=13.2.0->watson-developer-cloud)\n",
      "Requirement not upgraded as not directly required: constantly>=15.1 in /opt/conda/envs/DSX-Python35/lib/python3.5/site-packages (from Twisted>=13.2.0->watson-developer-cloud)\n",
      "Requirement not upgraded as not directly required: cryptography>=1.9 in /opt/conda/envs/DSX-Python35/lib/python3.5/site-packages (from pyOpenSSL>=16.2.0->watson-developer-cloud)\n",
      "Requirement not upgraded as not directly required: attrs in /opt/conda/envs/DSX-Python35/lib/python3.5/site-packages (from service-identity>=17.0.0->watson-developer-cloud)\n",
      "Requirement not upgraded as not directly required: pyasn1 in /opt/conda/envs/DSX-Python35/lib/python3.5/site-packages (from service-identity>=17.0.0->watson-developer-cloud)\n",
      "Requirement not upgraded as not directly required: pyasn1-modules in /opt/conda/envs/DSX-Python35/lib/python3.5/site-packages (from service-identity>=17.0.0->watson-developer-cloud)\n",
      "Requirement not upgraded as not directly required: txaio>=2.10.0 in /opt/conda/envs/DSX-Python35/lib/python3.5/site-packages (from autobahn>=0.10.9->watson-developer-cloud)\n",
      "Requirement not upgraded as not directly required: setuptools in /opt/conda/envs/DSX-Python35/lib/python3.5/site-packages (from zope.interface>=4.4.2->Twisted>=13.2.0->watson-developer-cloud)\n",
      "Requirement not upgraded as not directly required: asn1crypto>=0.21.0 in /opt/conda/envs/DSX-Python35/lib/python3.5/site-packages (from cryptography>=1.9->pyOpenSSL>=16.2.0->watson-developer-cloud)\n",
      "Requirement not upgraded as not directly required: cffi>=1.7 in /opt/conda/envs/DSX-Python35/lib/python3.5/site-packages (from cryptography>=1.9->pyOpenSSL>=16.2.0->watson-developer-cloud)\n",
      "Requirement not upgraded as not directly required: pycparser in /opt/conda/envs/DSX-Python35/lib/python3.5/site-packages (from cffi>=1.7->cryptography>=1.9->pyOpenSSL>=16.2.0->watson-developer-cloud)\n"
     ]
    }
   ],
   "source": [
    "!pip install watson-developer-cloud==1.5"
   ]
  },
  {
   "cell_type": "markdown",
   "metadata": {},
   "source": [
    "** Install NLTK: **"
   ]
  },
  {
   "cell_type": "code",
   "execution_count": 17,
   "metadata": {},
   "outputs": [
    {
     "name": "stdout",
     "output_type": "stream",
     "text": [
      "Requirement already up-to-date: nltk in /opt/conda/envs/DSX-Python35/lib/python3.5/site-packages\r\n",
      "Requirement not upgraded as not directly required: six in /opt/conda/envs/DSX-Python35/lib/python3.5/site-packages (from nltk)\r\n"
     ]
    }
   ],
   "source": [
    "!pip install --upgrade nltk"
   ]
  },
  {
   "cell_type": "markdown",
   "metadata": {},
   "source": [
    "** Install IBM Cloud Object Storage Client: **"
   ]
  },
  {
   "cell_type": "code",
   "execution_count": 18,
   "metadata": {
    "scrolled": true
   },
   "outputs": [
    {
     "name": "stdout",
     "output_type": "stream",
     "text": [
      "Requirement not upgraded as not directly required: ibm-cos-sdk in /opt/conda/envs/DSX-Python35/lib/python3.5/site-packages\r\n",
      "Requirement not upgraded as not directly required: ibm-cos-sdk-core==2.*,>=2.0.0 in /opt/conda/envs/DSX-Python35/lib/python3.5/site-packages (from ibm-cos-sdk)\r\n",
      "Requirement not upgraded as not directly required: ibm-cos-sdk-s3transfer==2.*,>=2.0.0 in /opt/conda/envs/DSX-Python35/lib/python3.5/site-packages (from ibm-cos-sdk)\r\n",
      "Requirement not upgraded as not directly required: docutils>=0.10 in /opt/conda/envs/DSX-Python35/lib/python3.5/site-packages (from ibm-cos-sdk-core==2.*,>=2.0.0->ibm-cos-sdk)\r\n",
      "Requirement not upgraded as not directly required: jmespath<1.0.0,>=0.7.1 in /opt/conda/envs/DSX-Python35/lib/python3.5/site-packages (from ibm-cos-sdk-core==2.*,>=2.0.0->ibm-cos-sdk)\r\n",
      "Requirement not upgraded as not directly required: python-dateutil<3.0.0,>=2.1 in /opt/conda/envs/DSX-Python35/lib/python3.5/site-packages (from ibm-cos-sdk-core==2.*,>=2.0.0->ibm-cos-sdk)\r\n",
      "Requirement not upgraded as not directly required: six>=1.5 in /opt/conda/envs/DSX-Python35/lib/python3.5/site-packages (from python-dateutil<3.0.0,>=2.1->ibm-cos-sdk-core==2.*,>=2.0.0->ibm-cos-sdk)\r\n"
     ]
    }
   ],
   "source": [
    "!pip install ibm-cos-sdk"
   ]
  },
  {
   "cell_type": "markdown",
   "metadata": {},
   "source": [
    "** <font color=blue>Now restart the kernel by choosing Kernel > Restart. </font> **"
   ]
  },
  {
   "cell_type": "markdown",
   "metadata": {},
   "source": [
    "### 1.2 Import packages and libraries\n",
    "\n",
    "Import the packages and libraries that you'll use:"
   ]
  },
  {
   "cell_type": "code",
   "execution_count": 19,
   "metadata": {
    "scrolled": true
   },
   "outputs": [],
   "source": [
    "import json\n",
    "import sys\n",
    "import _thread\n",
    "import time\n",
    "import watson_developer_cloud\n",
    "from watson_developer_cloud import NaturalLanguageUnderstandingV1\n",
    "from watson_developer_cloud.natural_language_understanding_v1 \\\n",
    "  import Features, EntitiesOptions, KeywordsOptions,SemanticRolesOptions,RelationsOptions\n",
    "    \n",
    "import ibm_boto3\n",
    "from botocore.client import Config\n",
    "    \n",
    "import operator\n",
    "from functools import reduce\n",
    "from io import StringIO\n",
    "import numpy as np\n",
    "from os.path import join, dirname\n",
    "import requests\n",
    "import re\n",
    "import pandas as pd\n",
    "import nltk\n",
    "from nltk.cluster.util import cosine_distance\n",
    "from nltk import word_tokenize,sent_tokenize,ne_chunk\n",
    "from nltk.corpus import stopwords\n",
    "import networkx as nx\n",
    "import matplotlib.pyplot as plt\n",
    "import numpy"
   ]
  },
  {
   "cell_type": "markdown",
   "metadata": {},
   "source": [
    "## 2. Configuration\n",
    "\n",
    "Add configurable items of the notebook below\n",
    "\n",
    "### 2.1 Add your service credentials from IBM Cloud for the Watson services\n",
    "\n",
    "You must create a Watson Natural Language Understanding service on IBM Cloud.\n",
    "Create a service for Natural Language Understanding (NLU).\n",
    "Insert the username and password values for your NLU in the following cell. Do not change the values of the version fields.\n",
    "\n",
    "Run the cell."
   ]
  },
  {
   "cell_type": "code",
   "execution_count": 20,
   "metadata": {
    "scrolled": true
   },
   "outputs": [],
   "source": [
    "# @hidden_cell\n",
    "natural_language_understanding = NaturalLanguageUnderstandingV1(\n",
    "    version='',\n",
    "    username=\"\",\n",
    "    password=\"\")"
   ]
  },
  {
   "cell_type": "markdown",
   "metadata": {},
   "source": [
    "### 2.2 Add your service credentials for Object Storage\n",
    "\n",
    "You must create Object Storage service on IBM Cloud.\n",
    "To access data in a file in Object Storage, you need the Object Storage authentication credentials.\n",
    "Insert the Object Storage authentication credentials in the following cell. \n"
   ]
  },
  {
   "cell_type": "code",
   "execution_count": 21,
   "metadata": {},
   "outputs": [],
   "source": [
    "# @hidden_cell\n",
    "# The following code contains the credentials for a file in your IBM Cloud Object Storage.\n",
    "# You might want to remove those credentials before you share your notebook.\n",
    "credentials_1 = {\n",
    "    'IBM_API_KEY_ID': '',\n",
    "    'IAM_SERVICE_ID': '',\n",
    "    'ENDPOINT': '',\n",
    "    'IBM_AUTH_ENDPOINT': '',\n",
    "    'BUCKET': '',\n",
    "    'FILE': ''\n",
    "}"
   ]
  },
  {
   "cell_type": "markdown",
   "metadata": {},
   "source": [
    "### 2.3 Global Variables\n",
    "\n",
    "Add global variables.\n"
   ]
  },
  {
   "cell_type": "code",
   "execution_count": 22,
   "metadata": {},
   "outputs": [
    {
     "name": "stdout",
     "output_type": "stream",
     "text": [
      "[nltk_data] Downloading package stopwords to\n",
      "[nltk_data]     /home/dsxuser/nltk_data...\n",
      "[nltk_data]   Package stopwords is already up-to-date!\n"
     ]
    }
   ],
   "source": [
    "# Specify file names for sample text and configuration files\n",
    "sampleTextFileName1 = \"sample_text_1.txt\"\n",
    "sampleTextFileName2 = \"sample_text_2.txt\"\n",
    "sampleConfigFileName = \"sample_config.txt\"\n",
    "\n",
    "# Maintain tagged text and plain text map\n",
    "tagTextMap ={}\n",
    "\n",
    "# Capture Watson NLU response\n",
    "nluresponse = {}\n",
    "\n",
    "# Stop words\n",
    "nltk.download('stopwords')\n",
    "stopWords = stopwords.words('english')\n",
    "# Additional words to be ignored \n",
    "stopWords.extend([\"The\",\"This\",\"That\",\".\",\"!\",\"?\"])"
   ]
  },
  {
   "cell_type": "markdown",
   "metadata": {},
   "source": [
    "### 2.4 Configure and download required NLTK packages\n",
    "\n",
    "Download the 'punkt' and 'averaged_perceptron_tagger' NLTK packages for POS tagging usage."
   ]
  },
  {
   "cell_type": "code",
   "execution_count": 23,
   "metadata": {},
   "outputs": [
    {
     "name": "stdout",
     "output_type": "stream",
     "text": [
      "[nltk_data] Downloading package punkt to /home/dsxuser/nltk_data...\n",
      "[nltk_data]   Package punkt is already up-to-date!\n",
      "[nltk_data] Downloading package averaged_perceptron_tagger to\n",
      "[nltk_data]     /home/dsxuser/nltk_data...\n",
      "[nltk_data]   Package averaged_perceptron_tagger is already up-to-\n",
      "[nltk_data]       date!\n",
      "[nltk_data] Downloading package maxent_ne_chunker to\n",
      "[nltk_data]     /home/dsxuser/nltk_data...\n",
      "[nltk_data]   Package maxent_ne_chunker is already up-to-date!\n",
      "[nltk_data] Downloading package words to /home/dsxuser/nltk_data...\n",
      "[nltk_data]   Package words is already up-to-date!\n"
     ]
    }
   ],
   "source": [
    "nltk.download('punkt')\n",
    "nltk.download('averaged_perceptron_tagger')\n",
    "nltk.download('maxent_ne_chunker')\n",
    "nltk.download('words')\n",
    "\n",
    "lemmatizer = nltk.WordNetLemmatizer()\n",
    "stemmer = nltk.stem.porter.PorterStemmer()"
   ]
  },
  {
   "cell_type": "markdown",
   "metadata": {},
   "source": [
    "## 3. Correlation\n",
    "\n",
    "Write the correlation related utility functions in a modularalized form.\n",
    "\n",
    "### 3.1 Watson NLU API"
   ]
  },
  {
   "cell_type": "code",
   "execution_count": 24,
   "metadata": {
    "scrolled": true
   },
   "outputs": [],
   "source": [
    "def analyze_using_NLU(analysistext):\n",
    "    response = natural_language_understanding.analyze( \n",
    "        text=analysistext,\n",
    "        features=Features(entities=EntitiesOptions(), \n",
    "                          keywords=KeywordsOptions(),\n",
    "                          relations=RelationsOptions(),\n",
    "                          semantic_roles=SemanticRolesOptions()))\n",
    "    return response"
   ]
  },
  {
   "cell_type": "markdown",
   "metadata": {},
   "source": [
    "### 3.2 Augumented Correlation\n",
    "\n",
    "Custom correlation utlity functions for augumenting the results of Watson NLU API call"
   ]
  },
  {
   "cell_type": "code",
   "execution_count": 25,
   "metadata": {},
   "outputs": [],
   "source": [
    "def split_sentences(text):\n",
    "    \"\"\" Split text into sentences.\n",
    "    \"\"\"\n",
    "    sentence_delimiters = re.compile(u'[\\\\[\\\\]\\n.!?]')\n",
    "    sentences = sentence_delimiters.split(text)\n",
    "    return sentences\n",
    "\n",
    "def split_into_tokens(text):\n",
    "    \"\"\" Split text into tokens.\n",
    "    \"\"\"\n",
    "    tokens = nltk.word_tokenize(text)\n",
    "    return tokens\n",
    "    \n",
    "def POS_tagging(text):\n",
    "    \"\"\" Generate Part of speech tagging of the text.\n",
    "    \"\"\"\n",
    "    POSofText = nltk.tag.pos_tag(text)\n",
    "    return POSofText\n",
    "\n",
    "def keyword_tagging(tag,tagtext,text):\n",
    "    \"\"\" Tag the text matching keywords.\n",
    "    \"\"\"\n",
    "    if (text.lower().find(tagtext.lower()) != -1):\n",
    "        return text[text.lower().find(tagtext.lower()):text.lower().find(tagtext.lower())+len(tagtext)]\n",
    "    else:\n",
    "        return 'UNKNOWN'\n",
    "    \n",
    "def regex_tagging(tag,regex,text):\n",
    "    \"\"\" Tag the text matching REGEX.\n",
    "    \"\"\"    \n",
    "    p = re.compile(regex, re.IGNORECASE)\n",
    "    matchtext = p.findall(text)\n",
    "    regex_list=[]    \n",
    "    if (len(matchtext)>0):\n",
    "        for regword in matchtext:\n",
    "            regex_list.append(regword)\n",
    "    return regex_list\n",
    "\n",
    "def chunk_tagging(tag,chunk,text):\n",
    "    \"\"\" Tag the text using chunking.\n",
    "    \"\"\"\n",
    "    parsed_cp = nltk.RegexpParser(chunk)\n",
    "    pos_cp = parsed_cp.parse(text)\n",
    "    chunk_list=[]\n",
    "    for root in pos_cp:\n",
    "        if isinstance(root, nltk.tree.Tree):               \n",
    "            if root.label() == tag:\n",
    "                chunk_word = ''\n",
    "                for child_root in root:\n",
    "                    chunk_word = chunk_word +' '+ child_root[0]\n",
    "                chunk_list.append(chunk_word)\n",
    "    return chunk_list\n",
    "    \n",
    "def augument_NLUResponse(responsejson,updateType,text,tag):\n",
    "    \"\"\" Update the NLU response JSON with augumented classifications.\n",
    "    \"\"\"\n",
    "    if(updateType == 'keyword'):\n",
    "        if not any(d.get('text', None) == text for d in responsejson['keywords']):\n",
    "            responsejson['keywords'].append({\"text\":text,\"relevance\":0.5})\n",
    "    else:\n",
    "        if not any(d.get('text', None) == text for d in responsejson['entities']):\n",
    "            responsejson['entities'].append({\"type\":tag,\"text\":text,\"relevance\":0.5,\"count\":1})        \n",
    "    \n",
    "def chunk_sentence(text):\n",
    "    \"\"\" Tag the sentence using chunking.\n",
    "    \"\"\"\n",
    "    grammar = \"\"\"\n",
    "      NP: {<DT|JJ|PRP|NN.*>+} # Chunk sequences of DT,JJ,NN\n",
    "          #}<VB*|DT|JJ|RB|PRP><NN.*>+{  # Chink sequences of VB,DT,JJ,NN       \n",
    "      PP: {<IN><NP>}               # Chunk prepositions followed by NP\n",
    "      V: {<V.*>}                   # Verb      \n",
    "      VP: {<VB*><NP|PP|CLAUSE>+}  # Chunk verbs and their arguments\n",
    "      CLAUSE: {<NP><VP>}           # Chunk NP, VP\n",
    "      \"\"\"  \n",
    "    parsed_cp = nltk.RegexpParser(grammar,loop=2)\n",
    "    pos_cp = parsed_cp.parse(text)\n",
    "    return pos_cp\n",
    "    \n",
    "def find_attrs(subtree,phrase):\n",
    "    attrs = ''\n",
    "    if phrase == 'NP':\n",
    "        for nodes in subtree:\n",
    "            if nodes[1] in ['DT','PRP$','POS','JJ','CD','ADJP','QP','NP','NNP']:\n",
    "                attrs = attrs+' '+nodes[0]\n",
    "    return attrs    \n",
    "    \n",
    "def find_subject(t):\n",
    "    for s in t.subtrees(lambda t: t.label() == 'NP'):\n",
    "        return find_attrs(s,'NP')\n",
    "    \n",
    "def resolve_coreference(text, config):\n",
    "    \"\"\" Resolve coreferences in the text for Nouns that are Subjects in a sentence\n",
    "    \"\"\"\n",
    "    sentenceList = split_sentences(text)\n",
    "    referenceSubject = ''\n",
    "    sentenceText = ''\n",
    "    configjson = json.loads(config)\n",
    "    \n",
    "    for sentences in sentenceList:    \n",
    "        tokens = split_into_tokens(sentences)   \n",
    "        postags = POS_tagging(tokens)\n",
    "        sentencetags = chunk_sentence(postags)\n",
    "        subjects = find_subject(sentencetags)\n",
    "        for rules in configjson['configuration']['coreference']['rules']:\n",
    "            if (rules['type'] == 'chunking'):\n",
    "                for tags in rules['chunk']:\n",
    "                    chunktags = chunk_tagging(tags['tag'],tags['pattern'],postags)\n",
    "                    if (len(chunktags)>0):\n",
    "                        for words in chunktags:\n",
    "                            if tags['tag'] == 'PRP':\n",
    "                                if subjects == '':\n",
    "                                    sentenceText = sentenceText+sentences.replace(words,referenceSubject)+'. '\n",
    "                            elif tags['tag'] == 'NAME':\n",
    "                                if words == subjects:\n",
    "                                    referenceSubject = words\n",
    "                                    sentenceText = sentenceText+sentences+'. '\n",
    "                    \n",
    "    return sentenceText\n",
    "\n",
    "def disambiguate_entities(text):\n",
    "    \"\"\" Resolve disambiguity in the text using entities and entity resolution performed using Watson NLU\n",
    "    \"\"\"    \n",
    "    sentenceList = split_sentences(text)\n",
    "    taggedtext = text\n",
    "    response = analyze_using_NLU(text)\n",
    "    global nluresponse \n",
    "    nluresponse = response\n",
    "    responsejson = response\n",
    "    for sentences in sentenceList:\n",
    "        tokens = split_into_tokens(sentences)\n",
    "        postags = POS_tagging(tokens)\n",
    "        name_tagged_text = chunk_tagging('NAME','NAME:{<NNP>+}',postags)\n",
    "        print(name_tagged_text)\n",
    "    for entities in responsejson['entities']:\n",
    "        regexstr = entities['text']+'(?!>)'\n",
    "        regex = re.compile(regexstr, re.IGNORECASE)\n",
    "        tagText = '<'+entities['type']+':'+entities['text']+'>'\n",
    "        taggedtext = re.sub(regexstr,tagText,taggedtext)\n",
    "        tagTextMap[tagText] = entities['text']\n",
    "    \n",
    "    for roles in responsejson['semantic_roles']:\n",
    "        if 'entities' not in roles['subject']:\n",
    "            print('NO ENTITY')\n",
    "        else:\n",
    "            for entity in roles['subject']['entities']:\n",
    "                if 'disambiguation' not in entity:\n",
    "                    print('NO DISAMBIGUATION')\n",
    "                else:\n",
    "                    regexstr = roles['subject']['text']+'(?!>)'\n",
    "                    regex = re.compile(regexstr, re.IGNORECASE)\n",
    "                    tagText = '<'+entity['type']+':'+entity['text']+'>'\n",
    "                    taggedtext = re.sub(regexstr,tagText,taggedtext)\n",
    "                    tagTextMap[tagText] = entity['text']\n",
    "    \n",
    "    return taggedtext\n",
    "\n",
    "def extract_relations(text, config,relations):\n",
    "    \"\"\" Extract entity relationships in a sentence\n",
    "    \"\"\"    \n",
    "    sentenceList = split_sentences(text)\n",
    "    configjson = json.loads(config)\n",
    "     \n",
    "    for sentences in sentenceList:\n",
    "        for rules in configjson['configuration']['relations']['rules']:\n",
    "            if (rules['type'] == 'd_regex'):\n",
    "                for regex in rules['d_regex']:\n",
    "                    regextags = regex_tagging(regex['tag'],regex['pattern'],sentences)\n",
    "                    if (len(regextags)>0):\n",
    "                        for words in regextags:\n",
    "                            relations.append((tagTextMap[words[0]],regex['tag'],tagTextMap[words[2]]))\n",
    "         \n",
    "    return relations\n",
    "\n",
    "def compute_text_similarity(text1, text2, text1tags, text2tags):\n",
    "    \"\"\" Compute text similarity using cosine\n",
    "    \"\"\"\n",
    "    sentences_text1 = split_sentences(text1)\n",
    "    sentences_text2 = split_sentences(text2)\n",
    "    tokens_text1 = []\n",
    "    tokens_text2 = []\n",
    "    \n",
    "    for sentence in sentences_text1:\n",
    "        tokenstemp = split_into_tokens(sentence.lower())\n",
    "        tokens_text1.extend(tokenstemp)\n",
    "    \n",
    "    for sentence in sentences_text2:\n",
    "        tokenstemp = split_into_tokens(sentence.lower())\n",
    "        tokens_text2.extend(tokenstemp)\n",
    "    # Add text tags    \n",
    "    if (len(text1tags) > 0):  \n",
    "        tokens_text1.extend(text1tags)\n",
    "    if (len(text2tags) > 0):    \n",
    "        tokens_text2.extend(text2tags)\n",
    "    \n",
    "    # Stem words\n",
    "    tokens1Filtered = [stemmer.stem(x) for x in tokens_text1 if x not in stopWords]\n",
    "    tokens2Filtered = [stemmer.stem(x) for x in tokens_text2 if x not in stopWords]\n",
    "    \n",
    "    #  remove duplicate tokens\n",
    "    tokens1Filtered = set(tokens1Filtered)\n",
    "    tokens2Filtered = set(tokens2Filtered)\n",
    "   \n",
    "    tokensList=[]\n",
    "\n",
    "    text1vector = []\n",
    "    text2vector = []\n",
    "\n",
    "    if len(tokens1Filtered) < len(tokens2Filtered):\n",
    "        tokensList = tokens1Filtered\n",
    "    else:\n",
    "        tokensList = tokens2Filtered\n",
    "\n",
    "    for token in tokensList:\n",
    "        if token in tokens1Filtered:\n",
    "            text1vector.append(1)\n",
    "        else:\n",
    "            text1vector.append(0)\n",
    "        if token in tokens2Filtered:\n",
    "            text2vector.append(1)\n",
    "        else:\n",
    "            text2vector.append(0)  \n",
    "\n",
    "    cosine_similarity = 1-cosine_distance(text1vector,text2vector)\n",
    "    if numpy.isnan(cosine_similarity):\n",
    "        cosine_similarity = 0\n",
    "    \n",
    "    return cosine_similarity"
   ]
  },
  {
   "cell_type": "markdown",
   "metadata": {},
   "source": [
    "### 3.3 Correlated Network Visualization\n",
    "\n",
    "Utility function to plot network visualization of entity relationships to correlate them"
   ]
  },
  {
   "cell_type": "code",
   "execution_count": 26,
   "metadata": {},
   "outputs": [],
   "source": [
    "def draw_simple_graph(graph):\n",
    "\n",
    "    nodes = []\n",
    "    labels = []\n",
    "    edges = []\n",
    "    # extract nodes from graph\n",
    "    for tuples in graph:\n",
    "        nodes.append(tuples[0])\n",
    "        nodes.append(tuples[2])\n",
    "        \n",
    "    # extract edges from graph\n",
    "    for edgepairs in graph:\n",
    "        edges.append((edgepairs[0],edgepairs[2]))        \n",
    "    # extract edge labels from graph\n",
    "    for edgetuples in graph:\n",
    "        labels.append(edgetuples[1])\n",
    "    # create networkx graph\n",
    "    G=nx.Graph()\n",
    "    # add nodes\n",
    "    for node in nodes:\n",
    "        G.add_node(node)\n",
    "    # add edges\n",
    "    for edge in graph:\n",
    "        G.add_edge(edge[0], edge[2])\n",
    "\n",
    "    # draw graph\n",
    "    pos = nx.spring_layout(G)\n",
    "    nx.draw(G, pos,with_labels = True)\n",
    "    edge_labels = dict(zip(edges, labels))\n",
    "    nx.draw_networkx_edge_labels(G, pos, edge_labels = edge_labels)\n",
    "\n",
    "    # show graph\n",
    "    plt.show()    "
   ]
  },
  {
   "cell_type": "markdown",
   "metadata": {},
   "source": [
    "## 4. Persistence and Storage"
   ]
  },
  {
   "cell_type": "markdown",
   "metadata": {
    "collapsed": true
   },
   "source": [
    "### 4.1 Configure Object Storage Client"
   ]
  },
  {
   "cell_type": "code",
   "execution_count": 27,
   "metadata": {},
   "outputs": [],
   "source": [
    "cos = ibm_boto3.client('s3',\n",
    "                    ibm_api_key_id=credentials_1['IBM_API_KEY_ID'],\n",
    "                    ibm_service_instance_id=credentials_1['IAM_SERVICE_ID'],\n",
    "                    ibm_auth_endpoint=credentials_1['IBM_AUTH_ENDPOINT'],\n",
    "                    config=Config(signature_version='oauth'),\n",
    "                    endpoint_url=credentials_1['ENDPOINT'])\n",
    "\n",
    "def get_file(filename):\n",
    "    '''Retrieve file from Cloud Object Storage'''\n",
    "    fileobject = cos.get_object(Bucket=credentials_1['BUCKET'], Key=filename)['Body']\n",
    "    return fileobject\n",
    "\n",
    "def load_string(fileobject):\n",
    "    '''Load the file contents into a Python string'''\n",
    "    text = fileobject.read()\n",
    "    return text.decode('utf-8')"
   ]
  },
  {
   "cell_type": "markdown",
   "metadata": {},
   "source": [
    "## 5. Correlate text\n",
    "Read the data files for correlation from Object Store<br>\n",
    "Read the configuration file for rules of coreference and correlation from Object Store.<br>"
   ]
  },
  {
   "cell_type": "code",
   "execution_count": 28,
   "metadata": {},
   "outputs": [
    {
     "name": "stdout",
     "output_type": "stream",
     "text": [
      "Warning: parsing empty text\n",
      "Warning: parsing empty text\n",
      "Warning: parsing empty text\n",
      "Warning: parsing empty text\n",
      "Warning: parsing empty text\n",
      "Warning: parsing empty text\n",
      "Warning: parsing empty text\n",
      "Warning: parsing empty text\n",
      "Warning: parsing empty text\n",
      "Warning: parsing empty text\n",
      "Warning: parsing empty text\n",
      "Warning: parsing empty text\n",
      "Warning: parsing empty text\n",
      "Warning: parsing empty text\n",
      "Warning: parsing empty text\n",
      "Warning: parsing empty text\n",
      "Warning: parsing empty text\n",
      "Warning: parsing empty text\n",
      "Warning: parsing empty text\n",
      "Warning: parsing empty text\n",
      "Warning: parsing empty text\n",
      "Warning: parsing empty text\n",
      "Warning: parsing empty text\n",
      "Warning: parsing empty text\n",
      "Warning: parsing empty text\n",
      "Warning: parsing empty text\n",
      "Warning: parsing empty text\n",
      "Warning: parsing empty text\n",
      "Warning: parsing empty text\n",
      "Warning: parsing empty text\n",
      "Warning: parsing empty text\n",
      "Warning: parsing empty text\n",
      "Warning: parsing empty text\n",
      "Warning: parsing empty text\n",
      "Warning: parsing empty text\n",
      "Warning: parsing empty text\n",
      "Warning: parsing empty text\n",
      "Warning: parsing empty text\n",
      "Warning: parsing empty text\n",
      "Warning: parsing empty text\n",
      "Warning: parsing empty text\n",
      "Warning: parsing empty text\n",
      "Warning: parsing empty text\n",
      "Warning: parsing empty text\n",
      "Warning: parsing empty text\n",
      "Warning: parsing empty text\n",
      "Warning: parsing empty text\n",
      "Warning: parsing empty text\n",
      "[' John', ' Boston University']\n",
      "[' John', ' Microsoft']\n",
      "[' John', ' Rose']\n",
      "Warning: parsing empty text\n",
      "[]\n",
      "NO ENTITY\n",
      "NO ENTITY\n",
      "[' Rose', ' Harvard University']\n",
      "[' Rose', ' Paul']\n",
      "[' Rose', ' John']\n",
      "[' Rose', ' New Jersey']\n",
      "[' Paul', ' Google']\n",
      "[' Paul', ' London']\n",
      "Warning: parsing empty text\n",
      "[]\n",
      "NO ENTITY\n"
     ]
    },
    {
     "data": {
      "text/plain": [
       "[('John', 'sonOf', 'Rose'),\n",
       " ('Rose', 'educatedAt', 'Harvard University'),\n",
       " ('Rose', 'spouseOf', 'Paul'),\n",
       " ('Rose', 'bornAt', 'New Jersey'),\n",
       " ('Paul', 'bornAt', 'London')]"
      ]
     },
     "execution_count": 28,
     "metadata": {},
     "output_type": "execute_result"
    }
   ],
   "source": [
    "text1 = load_string(get_file(sampleTextFileName1))\n",
    "text2 = load_string(get_file(sampleTextFileName2))\n",
    "config = load_string(get_file(sampleConfigFileName))\n",
    "\n",
    "relationships = []\n",
    "\n",
    "resolved_text1 = resolve_coreference(text1, config)\n",
    "resolved_text2 = resolve_coreference(text2, config)\n",
    "\n",
    "disambiguated_text1 = disambiguate_entities(resolved_text1)\n",
    "disambiguated_text2 = disambiguate_entities(resolved_text2)\n",
    "\n",
    "extract_relations(disambiguated_text1, config,relationships)\n",
    "extract_relations(disambiguated_text2, config,relationships)"
   ]
  },
  {
   "cell_type": "code",
   "execution_count": 29,
   "metadata": {},
   "outputs": [
    {
     "name": "stdout",
     "output_type": "stream",
     "text": [
      "First Text Sample\n",
      "John is a student at Boston University. He worked for Microsoft. He is the son of Rose.\n",
      "\n",
      "\n",
      "Second Text Sample\n",
      "Rose studied in Harvard University. She married Paul. She has a son John. She was born in New Jersey. Rose taught at Oxford University. Paul worked for Google. Paul was born in London.\n",
      "\n",
      "\n",
      "Document similarity score\n",
      "0.790569415042\n",
      "\n",
      "Relationships inferred by Watson NLU:\n",
      "[('Rose', 'educatedAt', 'Harvard University'), ('Rose', 'bornAt', 'New Jersey'), ('Paul', 'employedBy', 'Google'), ('Paul', 'bornAt', 'London')]\n",
      "\n",
      "Relations extracted by rules configured:\n",
      "[('John', 'sonOf', 'Rose'), ('Rose', 'educatedAt', 'Harvard University'), ('Rose', 'spouseOf', 'Paul'), ('Rose', 'bornAt', 'New Jersey'), ('Paul', 'bornAt', 'London')]\n"
     ]
    }
   ],
   "source": [
    "print(\"First Text Sample\")\n",
    "print(text1)\n",
    "print(\"\")\n",
    "\n",
    "print(\"Second Text Sample\")\n",
    "print(text2)\n",
    "print(\"\")\n",
    "\n",
    "print(\"Document similarity score\")\n",
    "print(compute_text_similarity(text1,text2,[],[]))\n",
    "print(\"\")\n",
    "print(\"Relationships inferred by Watson NLU:\")\n",
    "nlurelations = []\n",
    "for relation in nluresponse['relations']:\n",
    "    reltype = relation['type']\n",
    "    entity1 = relation['arguments'][0]['text']\n",
    "    entity2 = relation['arguments'][1]['text']\n",
    "    nlurelations.append((entity1,reltype,entity2))\n",
    "print(nlurelations)\n",
    "print(\"\")\n",
    "print(\"Relations extracted by rules configured:\")\n",
    "print(relationships)"
   ]
  },
  {
   "cell_type": "markdown",
   "metadata": {},
   "source": [
    "## 6. Visualize correlated text\n",
    "Load correlated text into Networkx<br>\n",
    "Plot network graph of the correlated text.<br>"
   ]
  },
  {
   "cell_type": "code",
   "execution_count": 31,
   "metadata": {},
   "outputs": [
    {
     "data": {
      "image/png": "[encoded data removed]",
      "text/plain": [
       "<matplotlib.figure.Figure at 0x7f2f34084860>"
      ]
     },
     "metadata": {},
     "output_type": "display_data"
    }
   ],
   "source": [
    "# Augment relations from Watson NLU\n",
    "for relation in relationships:\n",
    "    if relation not in nlurelations:\n",
    "        nlurelations.append(relation)\n",
    "        \n",
    "draw_simple_graph(nlurelations)"
   ]
  },
  {
   "cell_type": "code",
   "execution_count": null,
   "metadata": {},
   "outputs": [],
   "source": []
  },
  {
   "cell_type": "code",
   "execution_count": null,
   "metadata": {},
   "outputs": [],
   "source": []
  }
 ],
 "metadata": {
  "anaconda-cloud": {},
  "kernelspec": {
   "display_name": "Python 3.5",
   "language": "python",
   "name": "python3"
  },
  "language_info": {
   "codemirror_mode": {
    "name": "ipython",
    "version": 3
   },
   "file_extension": ".py",
   "mimetype": "text/x-python",
   "name": "python",
   "nbconvert_exporter": "python",
   "pygments_lexer": "ipython3",
   "version": "3.5.4"
  }
 },
 "nbformat": 4,
 "nbformat_minor": 1
}
